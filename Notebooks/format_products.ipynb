{
 "cells": [
  {
   "cell_type": "code",
   "execution_count": 2,
   "metadata": {},
   "outputs": [],
   "source": [
    "import pandas as pd\n",
    "\n",
    "# Read the CSV file into a DataFrame\n",
    "df = pd.read_csv('./products_table.csv')\n",
    "\n",
    "# Remove rows where 'cuisine' is present in the 'dish_names' column\n",
    "df = df[~df['dish_names'].str.contains('cuisine', case=False)]\n",
    "\n",
    "# Save the updated DataFrame to a new CSV file\n",
    "df.to_csv('filtered_products.csv', index=False)\n"
   ]
  },
  {
   "cell_type": "code",
   "execution_count": 4,
   "metadata": {},
   "outputs": [],
   "source": [
    "import pandas as pd\n",
    "\n",
    "# Read the CSV file into a DataFrame\n",
    "df = pd.read_csv('./filtered_products.csv')\n",
    "\n",
    "# Remove the first 3 characters from the 'dish_names' column\n",
    "df['dish_names'] = df['dish_names'].str[3:]\n",
    "\n",
    "# Save the updated DataFrame to a new CSV file\n",
    "df.to_csv('filtered_products.csv', index=False)\n"
   ]
  },
  {
   "cell_type": "code",
   "execution_count": 2,
   "metadata": {},
   "outputs": [],
   "source": [
    "import pandas as pd"
   ]
  },
  {
   "cell_type": "code",
   "execution_count": 82,
   "metadata": {},
   "outputs": [],
   "source": [
    "df = pd.read_csv('./restaurants_1.csv')\n",
    "\n",
    "\n",
    "cuisines_df = pd.DataFrame(df['cuisines'].str.split(',').explode().str.strip().dropna().unique(), columns=['cuisine_name'])\n",
    "cuisines_df.reset_index(drop=True, inplace=True)\n",
    "cuisines_df['cuisine_id'] = cuisines_df.index + 1"
   ]
  },
  {
   "cell_type": "code",
   "execution_count": 83,
   "metadata": {},
   "outputs": [
    {
     "data": {
      "text/html": [
       "<div>\n",
       "<style scoped>\n",
       "    .dataframe tbody tr th:only-of-type {\n",
       "        vertical-align: middle;\n",
       "    }\n",
       "\n",
       "    .dataframe tbody tr th {\n",
       "        vertical-align: top;\n",
       "    }\n",
       "\n",
       "    .dataframe thead th {\n",
       "        text-align: right;\n",
       "    }\n",
       "</style>\n",
       "<table border=\"1\" class=\"dataframe\">\n",
       "  <thead>\n",
       "    <tr style=\"text-align: right;\">\n",
       "      <th></th>\n",
       "      <th>cuisine_name</th>\n",
       "      <th>cuisine_id</th>\n",
       "    </tr>\n",
       "  </thead>\n",
       "  <tbody>\n",
       "    <tr>\n",
       "      <th>0</th>\n",
       "      <td>Indian</td>\n",
       "      <td>1</td>\n",
       "    </tr>\n",
       "    <tr>\n",
       "      <th>1</th>\n",
       "      <td>Taiwanese</td>\n",
       "      <td>2</td>\n",
       "    </tr>\n",
       "    <tr>\n",
       "      <th>2</th>\n",
       "      <td>Soups</td>\n",
       "      <td>3</td>\n",
       "    </tr>\n",
       "    <tr>\n",
       "      <th>3</th>\n",
       "      <td>Asian</td>\n",
       "      <td>4</td>\n",
       "    </tr>\n",
       "    <tr>\n",
       "      <th>4</th>\n",
       "      <td>Cafe</td>\n",
       "      <td>5</td>\n",
       "    </tr>\n",
       "  </tbody>\n",
       "</table>\n",
       "</div>"
      ],
      "text/plain": [
       "  cuisine_name  cuisine_id\n",
       "0       Indian           1\n",
       "1    Taiwanese           2\n",
       "2        Soups           3\n",
       "3        Asian           4\n",
       "4         Cafe           5"
      ]
     },
     "execution_count": 83,
     "metadata": {},
     "output_type": "execute_result"
    }
   ],
   "source": [
    "cuisines_df.head()"
   ]
  },
  {
   "cell_type": "code",
   "execution_count": null,
   "metadata": {},
   "outputs": [],
   "source": []
  },
  {
   "cell_type": "code",
   "execution_count": 89,
   "metadata": {},
   "outputs": [
    {
     "name": "stderr",
     "output_type": "stream",
     "text": [
      "/var/folders/vy/ym03ctd918q_6snnr0cc3zr40000gn/T/ipykernel_4095/1034184404.py:3: SettingWithCopyWarning: \n",
      "A value is trying to be set on a copy of a slice from a DataFrame.\n",
      "Try using .loc[row_indexer,col_indexer] = value instead\n",
      "\n",
      "See the caveats in the documentation: https://pandas.pydata.org/pandas-docs/stable/user_guide/indexing.html#returning-a-view-versus-a-copy\n",
      "  restaurants_df['restaurant_id'] = restaurants_df.index + 1\n"
     ]
    }
   ],
   "source": [
    "restaurants_df = df[['title', 'reviews', 'star_rating', 'price_range', 'page_number', 'data_offset', 'restaurant_serial_number']]\n",
    "restaurants_df.reset_index(drop=True, inplace=True)\n",
    "restaurants_df['restaurant_id'] = restaurants_df.index + 1\n",
    "\n",
    "# Create the RestaurantCuisines table\n",
    "restaurant_cuisines_df = pd.DataFrame(columns=['restaurant_id', 'cuisine_id'])\n",
    "\n",
    "for _, row in df.iterrows():\n",
    "    restaurant_id = restaurants_df.loc[restaurants_df['title'] == row['title'], 'restaurant_id'].values[0]\n",
    "    if not pd.isna(row['cuisines']):\n",
    "        cuisine_ids = cuisines_df.loc[cuisines_df['cuisine_name'].isin(row['cuisines'].split(', ')), 'cuisine_id'].tolist()\n",
    "        for cuisine_id in cuisine_ids:\n",
    "            restaurant_cuisines_df = pd.concat([restaurant_cuisines_df, pd.DataFrame({'restaurant_id': [restaurant_id], 'cuisine_id': [cuisine_id]})], ignore_index=True)"
   ]
  },
  {
   "cell_type": "code",
   "execution_count": 99,
   "metadata": {},
   "outputs": [
    {
     "data": {
      "text/plain": [
       "524"
      ]
     },
     "execution_count": 99,
     "metadata": {},
     "output_type": "execute_result"
    }
   ],
   "source": [
    "len(restaurant_cuisines_df)"
   ]
  },
  {
   "cell_type": "markdown",
   "metadata": {},
   "source": []
  },
  {
   "cell_type": "code",
   "execution_count": 95,
   "metadata": {},
   "outputs": [],
   "source": [
    "restaurants_df = pd.read_csv('restaurants.csv')"
   ]
  },
  {
   "cell_type": "code",
   "execution_count": 98,
   "metadata": {},
   "outputs": [],
   "source": [
    "restaurant_cuisines_df = restaurant_cuisines_df[restaurant_cuisines_df['restaurant_id'].isin(restaurants_df['restaurant_id'])]\n",
    "\n",
    "# Save the updated restaurant_cuisines_df to CSV\n",
    "restaurant_cuisines_df.to_csv('restaurant_cuisines.csv', index=False)"
   ]
  },
  {
   "cell_type": "code",
   "execution_count": 94,
   "metadata": {},
   "outputs": [
    {
     "data": {
      "text/html": [
       "<div>\n",
       "<style scoped>\n",
       "    .dataframe tbody tr th:only-of-type {\n",
       "        vertical-align: middle;\n",
       "    }\n",
       "\n",
       "    .dataframe tbody tr th {\n",
       "        vertical-align: top;\n",
       "    }\n",
       "\n",
       "    .dataframe thead th {\n",
       "        text-align: right;\n",
       "    }\n",
       "</style>\n",
       "<table border=\"1\" class=\"dataframe\">\n",
       "  <thead>\n",
       "    <tr style=\"text-align: right;\">\n",
       "      <th></th>\n",
       "      <th>title</th>\n",
       "      <th>reviews</th>\n",
       "      <th>star_rating</th>\n",
       "      <th>price_range</th>\n",
       "      <th>page_number</th>\n",
       "      <th>data_offset</th>\n",
       "      <th>restaurant_serial_number</th>\n",
       "      <th>restaurant_id</th>\n",
       "    </tr>\n",
       "  </thead>\n",
       "  <tbody>\n",
       "    <tr>\n",
       "      <th>0</th>\n",
       "      <td>1. Chilliesine Indian Restaurant - Hsinchu</td>\n",
       "      <td>157 reviews</td>\n",
       "      <td>5.0 of 5 bubbles</td>\n",
       "      <td>NaN</td>\n",
       "      <td>0</td>\n",
       "      <td>0</td>\n",
       "      <td>1</td>\n",
       "      <td>1</td>\n",
       "    </tr>\n",
       "    <tr>\n",
       "      <th>1</th>\n",
       "      <td>2. Din Tai Fung</td>\n",
       "      <td>249 reviews</td>\n",
       "      <td>4.5 of 5 bubbles</td>\n",
       "      <td>NaN</td>\n",
       "      <td>0</td>\n",
       "      <td>0</td>\n",
       "      <td>2</td>\n",
       "      <td>2</td>\n",
       "    </tr>\n",
       "    <tr>\n",
       "      <th>2</th>\n",
       "      <td>3. Wang Steak (Hsinchu Beida Branch)</td>\n",
       "      <td>207 reviews</td>\n",
       "      <td>4.5 of 5 bubbles</td>\n",
       "      <td>$$$$</td>\n",
       "      <td>0</td>\n",
       "      <td>0</td>\n",
       "      <td>3</td>\n",
       "      <td>3</td>\n",
       "    </tr>\n",
       "    <tr>\n",
       "      <th>3</th>\n",
       "      <td>4. The Promenade</td>\n",
       "      <td>503 reviews</td>\n",
       "      <td>4.0 of 5 bubbles</td>\n",
       "      <td>NaN</td>\n",
       "      <td>0</td>\n",
       "      <td>0</td>\n",
       "      <td>4</td>\n",
       "      <td>4</td>\n",
       "    </tr>\n",
       "    <tr>\n",
       "      <th>4</th>\n",
       "      <td>5. Le Cafe</td>\n",
       "      <td>471 reviews</td>\n",
       "      <td>4.0 of 5 bubbles</td>\n",
       "      <td>NaN</td>\n",
       "      <td>0</td>\n",
       "      <td>0</td>\n",
       "      <td>5</td>\n",
       "      <td>5</td>\n",
       "    </tr>\n",
       "  </tbody>\n",
       "</table>\n",
       "</div>"
      ],
      "text/plain": [
       "                                        title      reviews       star_rating  \\\n",
       "0  1. Chilliesine Indian Restaurant - Hsinchu  157 reviews  5.0 of 5 bubbles   \n",
       "1                             2. Din Tai Fung  249 reviews  4.5 of 5 bubbles   \n",
       "2        3. Wang Steak (Hsinchu Beida Branch)  207 reviews  4.5 of 5 bubbles   \n",
       "3                            4. The Promenade  503 reviews  4.0 of 5 bubbles   \n",
       "4                                  5. Le Cafe  471 reviews  4.0 of 5 bubbles   \n",
       "\n",
       "  price_range  page_number  data_offset  restaurant_serial_number  \\\n",
       "0         NaN            0            0                         1   \n",
       "1         NaN            0            0                         2   \n",
       "2        $$$$            0            0                         3   \n",
       "3         NaN            0            0                         4   \n",
       "4         NaN            0            0                         5   \n",
       "\n",
       "   restaurant_id  \n",
       "0              1  \n",
       "1              2  \n",
       "2              3  \n",
       "3              4  \n",
       "4              5  "
      ]
     },
     "execution_count": 94,
     "metadata": {},
     "output_type": "execute_result"
    }
   ],
   "source": [
    "restaurants_df.head()"
   ]
  },
  {
   "cell_type": "code",
   "execution_count": 27,
   "metadata": {},
   "outputs": [
    {
     "name": "stdout",
     "output_type": "stream",
     "text": [
      "                                       title reviews star_rating price_range  \\\n",
      "0    Chilliesine Indian Restaurant - Hsinchu     157         5.0         NaN   \n",
      "1                               Din Tai Fung     249         4.5         NaN   \n",
      "2          Wang Steak (Hsinchu Beida Branch)     207         4.5        $$$$   \n",
      "3                              The Promenade     503         4.0         NaN   \n",
      "4                                    Le Cafe     471         4.0         NaN   \n",
      "..                                       ...     ...         ...         ...   \n",
      "535                       6. Meat K Original     NaN         NaN         NaN   \n",
      "536                              7. Si Chang     NaN         NaN         NaN   \n",
      "537                     8. Shan Mu Tea House     NaN         NaN         NaN   \n",
      "538       9. Choya - Lakeshore Hotel Hsinchu     NaN         NaN         NaN   \n",
      "539                            0. The Secret     NaN         NaN         NaN   \n",
      "\n",
      "     page_number  data_offset  restaurant_serial_number  restaurant_id  \n",
      "0              0            0                         1              1  \n",
      "1              0            0                         2              2  \n",
      "2              0            0                         3              3  \n",
      "3              0            0                         4              4  \n",
      "4              0            0                         5              5  \n",
      "..           ...          ...                       ...            ...  \n",
      "535           38         1140                      1166            536  \n",
      "536           38         1140                      1167            537  \n",
      "537           38         1140                      1168            538  \n",
      "538           38         1140                      1169            539  \n",
      "539           38         1140                      1170            540  \n",
      "\n",
      "[540 rows x 8 columns]\n"
     ]
    },
    {
     "name": "stderr",
     "output_type": "stream",
     "text": [
      "/var/folders/vy/ym03ctd918q_6snnr0cc3zr40000gn/T/ipykernel_4095/3106208853.py:4: SettingWithCopyWarning: \n",
      "A value is trying to be set on a copy of a slice from a DataFrame.\n",
      "Try using .loc[row_indexer,col_indexer] = value instead\n",
      "\n",
      "See the caveats in the documentation: https://pandas.pydata.org/pandas-docs/stable/user_guide/indexing.html#returning-a-view-versus-a-copy\n",
      "  new_df['title'] = new_df['title'].str[3:]\n",
      "/var/folders/vy/ym03ctd918q_6snnr0cc3zr40000gn/T/ipykernel_4095/3106208853.py:7: SettingWithCopyWarning: \n",
      "A value is trying to be set on a copy of a slice from a DataFrame.\n",
      "Try using .loc[row_indexer,col_indexer] = value instead\n",
      "\n",
      "See the caveats in the documentation: https://pandas.pydata.org/pandas-docs/stable/user_guide/indexing.html#returning-a-view-versus-a-copy\n",
      "  new_df['reviews'] = new_df['reviews'].str.replace(' reviews', '')\n",
      "/var/folders/vy/ym03ctd918q_6snnr0cc3zr40000gn/T/ipykernel_4095/3106208853.py:10: SettingWithCopyWarning: \n",
      "A value is trying to be set on a copy of a slice from a DataFrame.\n",
      "Try using .loc[row_indexer,col_indexer] = value instead\n",
      "\n",
      "See the caveats in the documentation: https://pandas.pydata.org/pandas-docs/stable/user_guide/indexing.html#returning-a-view-versus-a-copy\n",
      "  new_df['star_rating'] = new_df['star_rating'].str.extract('([\\d.]+)', expand=False)\n"
     ]
    }
   ],
   "source": [
    "new_df = restaurants_df\n",
    "\n",
    "\n",
    "new_df['title'] = new_df['title'].str[3:]\n",
    "\n",
    "# Step 2: Remove the word 'reviews' from the 'reviews' column\n",
    "new_df['reviews'] = new_df['reviews'].str.replace(' reviews', '')\n",
    "\n",
    "# Step 3: Keep only the numerical part in the 'star_rating' column\n",
    "new_df['star_rating'] = new_df['star_rating'].str.extract('([\\d.]+)', expand=False)\n",
    "\n",
    "# Print the resulting DataFrame\n",
    "print(new_df)"
   ]
  },
  {
   "cell_type": "code",
   "execution_count": 29,
   "metadata": {},
   "outputs": [
    {
     "data": {
      "text/html": [
       "<div>\n",
       "<style scoped>\n",
       "    .dataframe tbody tr th:only-of-type {\n",
       "        vertical-align: middle;\n",
       "    }\n",
       "\n",
       "    .dataframe tbody tr th {\n",
       "        vertical-align: top;\n",
       "    }\n",
       "\n",
       "    .dataframe thead th {\n",
       "        text-align: right;\n",
       "    }\n",
       "</style>\n",
       "<table border=\"1\" class=\"dataframe\">\n",
       "  <thead>\n",
       "    <tr style=\"text-align: right;\">\n",
       "      <th></th>\n",
       "      <th>title</th>\n",
       "      <th>reviews</th>\n",
       "      <th>star_rating</th>\n",
       "      <th>price_range</th>\n",
       "      <th>page_number</th>\n",
       "      <th>data_offset</th>\n",
       "      <th>restaurant_serial_number</th>\n",
       "      <th>restaurant_id</th>\n",
       "    </tr>\n",
       "  </thead>\n",
       "  <tbody>\n",
       "    <tr>\n",
       "      <th>0</th>\n",
       "      <td>Chilliesine Indian Restaurant - Hsinchu</td>\n",
       "      <td>157</td>\n",
       "      <td>5.0</td>\n",
       "      <td>NaN</td>\n",
       "      <td>0</td>\n",
       "      <td>0</td>\n",
       "      <td>1</td>\n",
       "      <td>1</td>\n",
       "    </tr>\n",
       "    <tr>\n",
       "      <th>1</th>\n",
       "      <td>Din Tai Fung</td>\n",
       "      <td>249</td>\n",
       "      <td>4.5</td>\n",
       "      <td>NaN</td>\n",
       "      <td>0</td>\n",
       "      <td>0</td>\n",
       "      <td>2</td>\n",
       "      <td>2</td>\n",
       "    </tr>\n",
       "    <tr>\n",
       "      <th>2</th>\n",
       "      <td>Wang Steak (Hsinchu Beida Branch)</td>\n",
       "      <td>207</td>\n",
       "      <td>4.5</td>\n",
       "      <td>$$$$</td>\n",
       "      <td>0</td>\n",
       "      <td>0</td>\n",
       "      <td>3</td>\n",
       "      <td>3</td>\n",
       "    </tr>\n",
       "    <tr>\n",
       "      <th>3</th>\n",
       "      <td>The Promenade</td>\n",
       "      <td>503</td>\n",
       "      <td>4.0</td>\n",
       "      <td>NaN</td>\n",
       "      <td>0</td>\n",
       "      <td>0</td>\n",
       "      <td>4</td>\n",
       "      <td>4</td>\n",
       "    </tr>\n",
       "    <tr>\n",
       "      <th>4</th>\n",
       "      <td>Le Cafe</td>\n",
       "      <td>471</td>\n",
       "      <td>4.0</td>\n",
       "      <td>NaN</td>\n",
       "      <td>0</td>\n",
       "      <td>0</td>\n",
       "      <td>5</td>\n",
       "      <td>5</td>\n",
       "    </tr>\n",
       "  </tbody>\n",
       "</table>\n",
       "</div>"
      ],
      "text/plain": [
       "                                     title reviews star_rating price_range  \\\n",
       "0  Chilliesine Indian Restaurant - Hsinchu     157         5.0         NaN   \n",
       "1                             Din Tai Fung     249         4.5         NaN   \n",
       "2        Wang Steak (Hsinchu Beida Branch)     207         4.5        $$$$   \n",
       "3                            The Promenade     503         4.0         NaN   \n",
       "4                                  Le Cafe     471         4.0         NaN   \n",
       "\n",
       "   page_number  data_offset  restaurant_serial_number  restaurant_id  \n",
       "0            0            0                         1              1  \n",
       "1            0            0                         2              2  \n",
       "2            0            0                         3              3  \n",
       "3            0            0                         4              4  \n",
       "4            0            0                         5              5  "
      ]
     },
     "execution_count": 29,
     "metadata": {},
     "output_type": "execute_result"
    }
   ],
   "source": [
    "restaurants_df.head()"
   ]
  },
  {
   "cell_type": "code",
   "execution_count": 30,
   "metadata": {},
   "outputs": [
    {
     "data": {
      "text/plain": [
       "540"
      ]
     },
     "execution_count": 30,
     "metadata": {},
     "output_type": "execute_result"
    }
   ],
   "source": [
    "len(restaurants_df)"
   ]
  },
  {
   "cell_type": "code",
   "execution_count": 33,
   "metadata": {},
   "outputs": [
    {
     "data": {
      "text/plain": [
       "40"
      ]
     },
     "execution_count": 33,
     "metadata": {},
     "output_type": "execute_result"
    }
   ],
   "source": [
    "len(cuisines_df)"
   ]
  },
  {
   "cell_type": "code",
   "execution_count": 34,
   "metadata": {},
   "outputs": [],
   "source": [
    "cuisines_df.to_csv('cuisines.csv')"
   ]
  },
  {
   "cell_type": "code",
   "execution_count": 35,
   "metadata": {},
   "outputs": [],
   "source": [
    "products_df = pd.read_csv('./final_products.csv')"
   ]
  },
  {
   "cell_type": "code",
   "execution_count": 36,
   "metadata": {},
   "outputs": [
    {
     "data": {
      "text/html": [
       "<div>\n",
       "<style scoped>\n",
       "    .dataframe tbody tr th:only-of-type {\n",
       "        vertical-align: middle;\n",
       "    }\n",
       "\n",
       "    .dataframe tbody tr th {\n",
       "        vertical-align: top;\n",
       "    }\n",
       "\n",
       "    .dataframe thead th {\n",
       "        text-align: right;\n",
       "    }\n",
       "</style>\n",
       "<table border=\"1\" class=\"dataframe\">\n",
       "  <thead>\n",
       "    <tr style=\"text-align: right;\">\n",
       "      <th></th>\n",
       "      <th>cuisine_id</th>\n",
       "      <th>dish_names</th>\n",
       "      <th>generated_price</th>\n",
       "      <th>generated_price.1</th>\n",
       "    </tr>\n",
       "  </thead>\n",
       "  <tbody>\n",
       "    <tr>\n",
       "      <th>0</th>\n",
       "      <td>1</td>\n",
       "      <td>1. Butter chicken</td>\n",
       "      <td>250.0</td>\n",
       "      <td>250.0</td>\n",
       "    </tr>\n",
       "    <tr>\n",
       "      <th>1</th>\n",
       "      <td>1</td>\n",
       "      <td>2. Biryani</td>\n",
       "      <td>200.0</td>\n",
       "      <td>200.0</td>\n",
       "    </tr>\n",
       "    <tr>\n",
       "      <th>2</th>\n",
       "      <td>1</td>\n",
       "      <td>3. Tikka masala</td>\n",
       "      <td>300.0</td>\n",
       "      <td>300.0</td>\n",
       "    </tr>\n",
       "    <tr>\n",
       "      <th>3</th>\n",
       "      <td>1</td>\n",
       "      <td>4. Saag paneer</td>\n",
       "      <td>250.0</td>\n",
       "      <td>250.0</td>\n",
       "    </tr>\n",
       "    <tr>\n",
       "      <th>4</th>\n",
       "      <td>1</td>\n",
       "      <td>5. Chana masala</td>\n",
       "      <td>150.0</td>\n",
       "      <td>150.0</td>\n",
       "    </tr>\n",
       "  </tbody>\n",
       "</table>\n",
       "</div>"
      ],
      "text/plain": [
       "   cuisine_id         dish_names  generated_price  generated_price.1\n",
       "0           1  1. Butter chicken            250.0              250.0\n",
       "1           1         2. Biryani            200.0              200.0\n",
       "2           1    3. Tikka masala            300.0              300.0\n",
       "3           1     4. Saag paneer            250.0              250.0\n",
       "4           1    5. Chana masala            150.0              150.0"
      ]
     },
     "execution_count": 36,
     "metadata": {},
     "output_type": "execute_result"
    }
   ],
   "source": [
    "products_df.head()"
   ]
  },
  {
   "cell_type": "code",
   "execution_count": 38,
   "metadata": {},
   "outputs": [
    {
     "data": {
      "text/html": [
       "<div>\n",
       "<style scoped>\n",
       "    .dataframe tbody tr th:only-of-type {\n",
       "        vertical-align: middle;\n",
       "    }\n",
       "\n",
       "    .dataframe tbody tr th {\n",
       "        vertical-align: top;\n",
       "    }\n",
       "\n",
       "    .dataframe thead th {\n",
       "        text-align: right;\n",
       "    }\n",
       "</style>\n",
       "<table border=\"1\" class=\"dataframe\">\n",
       "  <thead>\n",
       "    <tr style=\"text-align: right;\">\n",
       "      <th></th>\n",
       "      <th>cuisine_id</th>\n",
       "      <th>dish_names</th>\n",
       "      <th>generated_price</th>\n",
       "    </tr>\n",
       "  </thead>\n",
       "  <tbody>\n",
       "    <tr>\n",
       "      <th>0</th>\n",
       "      <td>1</td>\n",
       "      <td>1. Butter chicken</td>\n",
       "      <td>250.0</td>\n",
       "    </tr>\n",
       "    <tr>\n",
       "      <th>1</th>\n",
       "      <td>1</td>\n",
       "      <td>2. Biryani</td>\n",
       "      <td>200.0</td>\n",
       "    </tr>\n",
       "    <tr>\n",
       "      <th>2</th>\n",
       "      <td>1</td>\n",
       "      <td>3. Tikka masala</td>\n",
       "      <td>300.0</td>\n",
       "    </tr>\n",
       "    <tr>\n",
       "      <th>3</th>\n",
       "      <td>1</td>\n",
       "      <td>4. Saag paneer</td>\n",
       "      <td>250.0</td>\n",
       "    </tr>\n",
       "    <tr>\n",
       "      <th>4</th>\n",
       "      <td>1</td>\n",
       "      <td>5. Chana masala</td>\n",
       "      <td>150.0</td>\n",
       "    </tr>\n",
       "    <tr>\n",
       "      <th>...</th>\n",
       "      <td>...</td>\n",
       "      <td>...</td>\n",
       "      <td>...</td>\n",
       "    </tr>\n",
       "    <tr>\n",
       "      <th>195</th>\n",
       "      <td>40</td>\n",
       "      <td>1. Sushi burrito</td>\n",
       "      <td>150.0</td>\n",
       "    </tr>\n",
       "    <tr>\n",
       "      <th>196</th>\n",
       "      <td>40</td>\n",
       "      <td>2. Ramen burger</td>\n",
       "      <td>100.0</td>\n",
       "    </tr>\n",
       "    <tr>\n",
       "      <th>197</th>\n",
       "      <td>40</td>\n",
       "      <td>3. Poke bowl</td>\n",
       "      <td>300.0</td>\n",
       "    </tr>\n",
       "    <tr>\n",
       "      <th>198</th>\n",
       "      <td>40</td>\n",
       "      <td>4. Teriyaki chicken tacos</td>\n",
       "      <td>150.0</td>\n",
       "    </tr>\n",
       "    <tr>\n",
       "      <th>199</th>\n",
       "      <td>40</td>\n",
       "      <td>5. Wasabi mashed potatoes</td>\n",
       "      <td>150.0</td>\n",
       "    </tr>\n",
       "  </tbody>\n",
       "</table>\n",
       "<p>200 rows × 3 columns</p>\n",
       "</div>"
      ],
      "text/plain": [
       "     cuisine_id                 dish_names  generated_price\n",
       "0             1          1. Butter chicken            250.0\n",
       "1             1                 2. Biryani            200.0\n",
       "2             1            3. Tikka masala            300.0\n",
       "3             1             4. Saag paneer            250.0\n",
       "4             1            5. Chana masala            150.0\n",
       "..          ...                        ...              ...\n",
       "195          40           1. Sushi burrito            150.0\n",
       "196          40            2. Ramen burger            100.0\n",
       "197          40               3. Poke bowl            300.0\n",
       "198          40  4. Teriyaki chicken tacos            150.0\n",
       "199          40  5. Wasabi mashed potatoes            150.0\n",
       "\n",
       "[200 rows x 3 columns]"
      ]
     },
     "execution_count": 38,
     "metadata": {},
     "output_type": "execute_result"
    }
   ],
   "source": [
    "products_df.drop(columns = ['generated_price.1'])"
   ]
  },
  {
   "cell_type": "code",
   "execution_count": 41,
   "metadata": {},
   "outputs": [],
   "source": [
    "products_df['dish_names'] = products_df['dish_names'].apply(lambda x: x[3:] if isinstance(x, str) else x)"
   ]
  },
  {
   "cell_type": "code",
   "execution_count": 44,
   "metadata": {},
   "outputs": [
    {
     "data": {
      "text/html": [
       "<div>\n",
       "<style scoped>\n",
       "    .dataframe tbody tr th:only-of-type {\n",
       "        vertical-align: middle;\n",
       "    }\n",
       "\n",
       "    .dataframe tbody tr th {\n",
       "        vertical-align: top;\n",
       "    }\n",
       "\n",
       "    .dataframe thead th {\n",
       "        text-align: right;\n",
       "    }\n",
       "</style>\n",
       "<table border=\"1\" class=\"dataframe\">\n",
       "  <thead>\n",
       "    <tr style=\"text-align: right;\">\n",
       "      <th></th>\n",
       "      <th>cuisine_id</th>\n",
       "      <th>dish_names</th>\n",
       "      <th>generated_price</th>\n",
       "    </tr>\n",
       "  </thead>\n",
       "  <tbody>\n",
       "    <tr>\n",
       "      <th>0</th>\n",
       "      <td>1</td>\n",
       "      <td>Butter chicken</td>\n",
       "      <td>250.0</td>\n",
       "    </tr>\n",
       "    <tr>\n",
       "      <th>1</th>\n",
       "      <td>1</td>\n",
       "      <td>Biryani</td>\n",
       "      <td>200.0</td>\n",
       "    </tr>\n",
       "    <tr>\n",
       "      <th>2</th>\n",
       "      <td>1</td>\n",
       "      <td>Tikka masala</td>\n",
       "      <td>300.0</td>\n",
       "    </tr>\n",
       "    <tr>\n",
       "      <th>3</th>\n",
       "      <td>1</td>\n",
       "      <td>Saag paneer</td>\n",
       "      <td>250.0</td>\n",
       "    </tr>\n",
       "    <tr>\n",
       "      <th>4</th>\n",
       "      <td>1</td>\n",
       "      <td>Chana masala</td>\n",
       "      <td>150.0</td>\n",
       "    </tr>\n",
       "  </tbody>\n",
       "</table>\n",
       "</div>"
      ],
      "text/plain": [
       "   cuisine_id      dish_names  generated_price\n",
       "0           1  Butter chicken            250.0\n",
       "1           1         Biryani            200.0\n",
       "2           1    Tikka masala            300.0\n",
       "3           1     Saag paneer            250.0\n",
       "4           1    Chana masala            150.0"
      ]
     },
     "execution_count": 44,
     "metadata": {},
     "output_type": "execute_result"
    }
   ],
   "source": [
    "products_df.head()"
   ]
  },
  {
   "cell_type": "code",
   "execution_count": 43,
   "metadata": {},
   "outputs": [],
   "source": [
    "products_df = products_df.drop(columns = ['generated_price.1'])"
   ]
  },
  {
   "cell_type": "code",
   "execution_count": 45,
   "metadata": {},
   "outputs": [
    {
     "data": {
      "text/plain": [
       "200"
      ]
     },
     "execution_count": 45,
     "metadata": {},
     "output_type": "execute_result"
    }
   ],
   "source": [
    "len(products_df)"
   ]
  },
  {
   "cell_type": "code",
   "execution_count": 54,
   "metadata": {},
   "outputs": [],
   "source": [
    "products_df.to_csv('dishes.csv')"
   ]
  },
  {
   "cell_type": "code",
   "execution_count": 48,
   "metadata": {},
   "outputs": [],
   "source": [
    "products_df = pd.read_csv('./products.csv')"
   ]
  },
  {
   "cell_type": "code",
   "execution_count": 49,
   "metadata": {},
   "outputs": [
    {
     "name": "stdout",
     "output_type": "stream",
     "text": [
      "     Unnamed: 0  cuisine_id              dish_names  generated_price  dish_id\n",
      "0             0           1          Butter chicken            250.0        1\n",
      "1             1           1                 Biryani            200.0        2\n",
      "2             2           1            Tikka masala            300.0        3\n",
      "3             3           1             Saag paneer            250.0        4\n",
      "4             4           1            Chana masala            150.0        5\n",
      "..          ...         ...                     ...              ...      ...\n",
      "195         195          40           Sushi burrito            150.0      196\n",
      "196         196          40            Ramen burger            100.0      197\n",
      "197         197          40               Poke bowl            300.0      198\n",
      "198         198          40  Teriyaki chicken tacos            150.0      199\n",
      "199         199          40  Wasabi mashed potatoes            150.0      200\n",
      "\n",
      "[200 rows x 5 columns]\n"
     ]
    }
   ],
   "source": [
    "products_df['dish_id'] = list(range(1, len(products_df) + 1))\n",
    "\n",
    "# Display the updated DataFrame\n",
    "print(products_df)"
   ]
  },
  {
   "cell_type": "code",
   "execution_count": 51,
   "metadata": {},
   "outputs": [],
   "source": [
    "products_df = products_df.drop(columns = ['Unnamed: 0'])"
   ]
  },
  {
   "cell_type": "code",
   "execution_count": 53,
   "metadata": {},
   "outputs": [
    {
     "name": "stdout",
     "output_type": "stream",
     "text": [
      "     cuisine_id               dish_name  price  dish_id\n",
      "0             1          Butter chicken  250.0        1\n",
      "1             1                 Biryani  200.0        2\n",
      "2             1            Tikka masala  300.0        3\n",
      "3             1             Saag paneer  250.0        4\n",
      "4             1            Chana masala  150.0        5\n",
      "..          ...                     ...    ...      ...\n",
      "195          40           Sushi burrito  150.0      196\n",
      "196          40            Ramen burger  100.0      197\n",
      "197          40               Poke bowl  300.0      198\n",
      "198          40  Teriyaki chicken tacos  150.0      199\n",
      "199          40  Wasabi mashed potatoes  150.0      200\n",
      "\n",
      "[200 rows x 4 columns]\n"
     ]
    }
   ],
   "source": [
    "products_df.rename(columns={'dish_names': 'dish_name', 'generated_price': 'price'}, inplace=True)\n",
    "\n",
    "# Display the updated DataFrame\n",
    "print(products_df)"
   ]
  },
  {
   "cell_type": "code",
   "execution_count": 55,
   "metadata": {},
   "outputs": [
    {
     "data": {
      "text/html": [
       "<div>\n",
       "<style scoped>\n",
       "    .dataframe tbody tr th:only-of-type {\n",
       "        vertical-align: middle;\n",
       "    }\n",
       "\n",
       "    .dataframe tbody tr th {\n",
       "        vertical-align: top;\n",
       "    }\n",
       "\n",
       "    .dataframe thead th {\n",
       "        text-align: right;\n",
       "    }\n",
       "</style>\n",
       "<table border=\"1\" class=\"dataframe\">\n",
       "  <thead>\n",
       "    <tr style=\"text-align: right;\">\n",
       "      <th></th>\n",
       "      <th>title</th>\n",
       "      <th>reviews</th>\n",
       "      <th>star_rating</th>\n",
       "      <th>price_range</th>\n",
       "      <th>page_number</th>\n",
       "      <th>data_offset</th>\n",
       "      <th>restaurant_serial_number</th>\n",
       "      <th>restaurant_id</th>\n",
       "    </tr>\n",
       "  </thead>\n",
       "  <tbody>\n",
       "    <tr>\n",
       "      <th>0</th>\n",
       "      <td>Chilliesine Indian Restaurant - Hsinchu</td>\n",
       "      <td>157</td>\n",
       "      <td>5.0</td>\n",
       "      <td>NaN</td>\n",
       "      <td>0</td>\n",
       "      <td>0</td>\n",
       "      <td>1</td>\n",
       "      <td>1</td>\n",
       "    </tr>\n",
       "    <tr>\n",
       "      <th>1</th>\n",
       "      <td>Din Tai Fung</td>\n",
       "      <td>249</td>\n",
       "      <td>4.5</td>\n",
       "      <td>NaN</td>\n",
       "      <td>0</td>\n",
       "      <td>0</td>\n",
       "      <td>2</td>\n",
       "      <td>2</td>\n",
       "    </tr>\n",
       "    <tr>\n",
       "      <th>2</th>\n",
       "      <td>Wang Steak (Hsinchu Beida Branch)</td>\n",
       "      <td>207</td>\n",
       "      <td>4.5</td>\n",
       "      <td>$$$$</td>\n",
       "      <td>0</td>\n",
       "      <td>0</td>\n",
       "      <td>3</td>\n",
       "      <td>3</td>\n",
       "    </tr>\n",
       "    <tr>\n",
       "      <th>3</th>\n",
       "      <td>The Promenade</td>\n",
       "      <td>503</td>\n",
       "      <td>4.0</td>\n",
       "      <td>NaN</td>\n",
       "      <td>0</td>\n",
       "      <td>0</td>\n",
       "      <td>4</td>\n",
       "      <td>4</td>\n",
       "    </tr>\n",
       "    <tr>\n",
       "      <th>4</th>\n",
       "      <td>Le Cafe</td>\n",
       "      <td>471</td>\n",
       "      <td>4.0</td>\n",
       "      <td>NaN</td>\n",
       "      <td>0</td>\n",
       "      <td>0</td>\n",
       "      <td>5</td>\n",
       "      <td>5</td>\n",
       "    </tr>\n",
       "  </tbody>\n",
       "</table>\n",
       "</div>"
      ],
      "text/plain": [
       "                                     title reviews star_rating price_range  \\\n",
       "0  Chilliesine Indian Restaurant - Hsinchu     157         5.0         NaN   \n",
       "1                             Din Tai Fung     249         4.5         NaN   \n",
       "2        Wang Steak (Hsinchu Beida Branch)     207         4.5        $$$$   \n",
       "3                            The Promenade     503         4.0         NaN   \n",
       "4                                  Le Cafe     471         4.0         NaN   \n",
       "\n",
       "   page_number  data_offset  restaurant_serial_number  restaurant_id  \n",
       "0            0            0                         1              1  \n",
       "1            0            0                         2              2  \n",
       "2            0            0                         3              3  \n",
       "3            0            0                         4              4  \n",
       "4            0            0                         5              5  "
      ]
     },
     "execution_count": 55,
     "metadata": {},
     "output_type": "execute_result"
    }
   ],
   "source": [
    "restaurants_df.head()"
   ]
  },
  {
   "cell_type": "code",
   "execution_count": 56,
   "metadata": {},
   "outputs": [
    {
     "name": "stderr",
     "output_type": "stream",
     "text": [
      "/var/folders/vy/ym03ctd918q_6snnr0cc3zr40000gn/T/ipykernel_4095/3554457483.py:1: SettingWithCopyWarning: \n",
      "A value is trying to be set on a copy of a slice from a DataFrame\n",
      "\n",
      "See the caveats in the documentation: https://pandas.pydata.org/pandas-docs/stable/user_guide/indexing.html#returning-a-view-versus-a-copy\n",
      "  restaurants_df.rename(columns={'title': 'restaurant_name', 'star_rating' : 'rating' , 'generated_price': 'price'}, inplace=True)\n"
     ]
    }
   ],
   "source": [
    "restaurants_df.rename(columns={'title': 'restaurant_name', 'star_rating' : 'rating' , 'generated_price': 'price'}, inplace=True)"
   ]
  },
  {
   "cell_type": "code",
   "execution_count": 60,
   "metadata": {},
   "outputs": [
    {
     "data": {
      "text/html": [
       "<div>\n",
       "<style scoped>\n",
       "    .dataframe tbody tr th:only-of-type {\n",
       "        vertical-align: middle;\n",
       "    }\n",
       "\n",
       "    .dataframe tbody tr th {\n",
       "        vertical-align: top;\n",
       "    }\n",
       "\n",
       "    .dataframe thead th {\n",
       "        text-align: right;\n",
       "    }\n",
       "</style>\n",
       "<table border=\"1\" class=\"dataframe\">\n",
       "  <thead>\n",
       "    <tr style=\"text-align: right;\">\n",
       "      <th></th>\n",
       "      <th>restaurant_name</th>\n",
       "      <th>reviews</th>\n",
       "      <th>rating</th>\n",
       "      <th>price_range</th>\n",
       "      <th>restaurant_id</th>\n",
       "    </tr>\n",
       "  </thead>\n",
       "  <tbody>\n",
       "    <tr>\n",
       "      <th>0</th>\n",
       "      <td>Chilliesine Indian Restaurant - Hsinchu</td>\n",
       "      <td>157</td>\n",
       "      <td>5.0</td>\n",
       "      <td>NaN</td>\n",
       "      <td>1</td>\n",
       "    </tr>\n",
       "    <tr>\n",
       "      <th>1</th>\n",
       "      <td>Din Tai Fung</td>\n",
       "      <td>249</td>\n",
       "      <td>4.5</td>\n",
       "      <td>NaN</td>\n",
       "      <td>2</td>\n",
       "    </tr>\n",
       "    <tr>\n",
       "      <th>2</th>\n",
       "      <td>Wang Steak (Hsinchu Beida Branch)</td>\n",
       "      <td>207</td>\n",
       "      <td>4.5</td>\n",
       "      <td>$$$$</td>\n",
       "      <td>3</td>\n",
       "    </tr>\n",
       "    <tr>\n",
       "      <th>3</th>\n",
       "      <td>The Promenade</td>\n",
       "      <td>503</td>\n",
       "      <td>4.0</td>\n",
       "      <td>NaN</td>\n",
       "      <td>4</td>\n",
       "    </tr>\n",
       "    <tr>\n",
       "      <th>4</th>\n",
       "      <td>Le Cafe</td>\n",
       "      <td>471</td>\n",
       "      <td>4.0</td>\n",
       "      <td>NaN</td>\n",
       "      <td>5</td>\n",
       "    </tr>\n",
       "  </tbody>\n",
       "</table>\n",
       "</div>"
      ],
      "text/plain": [
       "                           restaurant_name reviews rating price_range  \\\n",
       "0  Chilliesine Indian Restaurant - Hsinchu     157    5.0         NaN   \n",
       "1                             Din Tai Fung     249    4.5         NaN   \n",
       "2        Wang Steak (Hsinchu Beida Branch)     207    4.5        $$$$   \n",
       "3                            The Promenade     503    4.0         NaN   \n",
       "4                                  Le Cafe     471    4.0         NaN   \n",
       "\n",
       "   restaurant_id  \n",
       "0              1  \n",
       "1              2  \n",
       "2              3  \n",
       "3              4  \n",
       "4              5  "
      ]
     },
     "execution_count": 60,
     "metadata": {},
     "output_type": "execute_result"
    }
   ],
   "source": [
    "restaurants_df.head()"
   ]
  },
  {
   "cell_type": "code",
   "execution_count": 59,
   "metadata": {},
   "outputs": [
    {
     "name": "stderr",
     "output_type": "stream",
     "text": [
      "/var/folders/vy/ym03ctd918q_6snnr0cc3zr40000gn/T/ipykernel_4095/2742072775.py:1: SettingWithCopyWarning: \n",
      "A value is trying to be set on a copy of a slice from a DataFrame\n",
      "\n",
      "See the caveats in the documentation: https://pandas.pydata.org/pandas-docs/stable/user_guide/indexing.html#returning-a-view-versus-a-copy\n",
      "  restaurants_df.drop(columns = ['page_number' , 'data_offset' , 'restaurant_serial_number'] , inplace = True)\n"
     ]
    }
   ],
   "source": [
    "restaurants_df.drop(columns = ['page_number' , 'data_offset' , 'restaurant_serial_number'] , inplace = True)\n",
    "\n"
   ]
  },
  {
   "cell_type": "code",
   "execution_count": 75,
   "metadata": {},
   "outputs": [],
   "source": [
    "restaurants_df.to_csv('restaurants.csv')"
   ]
  },
  {
   "cell_type": "code",
   "execution_count": 62,
   "metadata": {},
   "outputs": [
    {
     "name": "stderr",
     "output_type": "stream",
     "text": [
      "/var/folders/vy/ym03ctd918q_6snnr0cc3zr40000gn/T/ipykernel_4095/3065566079.py:1: SettingWithCopyWarning: \n",
      "A value is trying to be set on a copy of a slice from a DataFrame.\n",
      "Try using .loc[row_indexer,col_indexer] = value instead\n",
      "\n",
      "See the caveats in the documentation: https://pandas.pydata.org/pandas-docs/stable/user_guide/indexing.html#returning-a-view-versus-a-copy\n",
      "  restaurants_df['restaurant_name'] = restaurants_df['restaurant_name'].str.replace(r'^\\d+\\.\\s*', '', regex=True)\n"
     ]
    }
   ],
   "source": [
    "restaurants_df['restaurant_name'] = restaurants_df['restaurant_name'].str.replace(r'^\\d+\\.\\s*', '', regex=True)"
   ]
  },
  {
   "cell_type": "code",
   "execution_count": 77,
   "metadata": {},
   "outputs": [],
   "source": [
    "restaurants_df = pd.read_csv('restaurants.csv')"
   ]
  },
  {
   "cell_type": "code",
   "execution_count": 64,
   "metadata": {},
   "outputs": [
    {
     "name": "stderr",
     "output_type": "stream",
     "text": [
      "/var/folders/vy/ym03ctd918q_6snnr0cc3zr40000gn/T/ipykernel_4095/1910306758.py:1: SettingWithCopyWarning: \n",
      "A value is trying to be set on a copy of a slice from a DataFrame.\n",
      "Try using .loc[row_indexer,col_indexer] = value instead\n",
      "\n",
      "See the caveats in the documentation: https://pandas.pydata.org/pandas-docs/stable/user_guide/indexing.html#returning-a-view-versus-a-copy\n",
      "  restaurants_df['reviews'] = restaurants_df['reviews'].str.replace('review', '')\n"
     ]
    }
   ],
   "source": [
    "restaurants_df['reviews'] = restaurants_df['reviews'].str.replace('review', '')"
   ]
  },
  {
   "cell_type": "code",
   "execution_count": 68,
   "metadata": {},
   "outputs": [],
   "source": [
    "restaurants_df = pd.read_csv('restaurants.csv')"
   ]
  },
  {
   "cell_type": "code",
   "execution_count": 69,
   "metadata": {},
   "outputs": [
    {
     "name": "stdout",
     "output_type": "stream",
     "text": [
      "     Unnamed: 0                          restaurant_name  reviews  rating  \\\n",
      "0             0  Chilliesine Indian Restaurant - Hsinchu    157.0     5.0   \n",
      "1             1                             Din Tai Fung    249.0     4.5   \n",
      "2             2        Wang Steak (Hsinchu Beida Branch)    207.0     4.5   \n",
      "3             3                            The Promenade    503.0     4.0   \n",
      "4             4                                  Le Cafe    471.0     4.0   \n",
      "..          ...                                      ...      ...     ...   \n",
      "535         535                          Meat K Original      NaN     NaN   \n",
      "536         536                                 Si Chang      NaN     NaN   \n",
      "537         537                        Shan Mu Tea House      NaN     NaN   \n",
      "538         538          Choya - Lakeshore Hotel Hsinchu      NaN     NaN   \n",
      "539         539                               The Secret      NaN     NaN   \n",
      "\n",
      "    price_range  restaurant_id  \n",
      "0           NaN              1  \n",
      "1           NaN              2  \n",
      "2          $$$$              3  \n",
      "3           NaN              4  \n",
      "4           NaN              5  \n",
      "..          ...            ...  \n",
      "535         NaN            536  \n",
      "536         NaN            537  \n",
      "537         NaN            538  \n",
      "538         NaN            539  \n",
      "539         NaN            540  \n",
      "\n",
      "[540 rows x 6 columns]\n"
     ]
    }
   ],
   "source": [
    "restaurants_df.loc[39:458, 'restaurant_name'] = restaurants_df.loc[39:458, 'restaurant_name'].str[2:]\n",
    "\n",
    "# Display the updated DataFrame\n",
    "print(restaurants_df)"
   ]
  },
  {
   "cell_type": "code",
   "execution_count": 70,
   "metadata": {},
   "outputs": [],
   "source": [
    "restaurants_df.to_csv('updated_restaurants.csv')"
   ]
  },
  {
   "cell_type": "code",
   "execution_count": 71,
   "metadata": {},
   "outputs": [],
   "source": [
    "restaurants_df['restaurant_name'] = restaurants_df['restaurant_name'].str.strip()"
   ]
  },
  {
   "cell_type": "code",
   "execution_count": 72,
   "metadata": {},
   "outputs": [],
   "source": [
    "restaurants_df = restaurants_df.drop_duplicates(subset='restaurant_name')"
   ]
  },
  {
   "cell_type": "code",
   "execution_count": 74,
   "metadata": {},
   "outputs": [
    {
     "data": {
      "text/html": [
       "<div>\n",
       "<style scoped>\n",
       "    .dataframe tbody tr th:only-of-type {\n",
       "        vertical-align: middle;\n",
       "    }\n",
       "\n",
       "    .dataframe tbody tr th {\n",
       "        vertical-align: top;\n",
       "    }\n",
       "\n",
       "    .dataframe thead th {\n",
       "        text-align: right;\n",
       "    }\n",
       "</style>\n",
       "<table border=\"1\" class=\"dataframe\">\n",
       "  <thead>\n",
       "    <tr style=\"text-align: right;\">\n",
       "      <th></th>\n",
       "      <th>restaurant_name</th>\n",
       "      <th>reviews</th>\n",
       "      <th>rating</th>\n",
       "      <th>price_range</th>\n",
       "      <th>restaurant_id</th>\n",
       "    </tr>\n",
       "  </thead>\n",
       "  <tbody>\n",
       "    <tr>\n",
       "      <th>0</th>\n",
       "      <td>Chilliesine Indian Restaurant - Hsinchu</td>\n",
       "      <td>157.0</td>\n",
       "      <td>5.0</td>\n",
       "      <td>NaN</td>\n",
       "      <td>1</td>\n",
       "    </tr>\n",
       "    <tr>\n",
       "      <th>1</th>\n",
       "      <td>Din Tai Fung</td>\n",
       "      <td>249.0</td>\n",
       "      <td>4.5</td>\n",
       "      <td>NaN</td>\n",
       "      <td>2</td>\n",
       "    </tr>\n",
       "    <tr>\n",
       "      <th>2</th>\n",
       "      <td>Wang Steak (Hsinchu Beida Branch)</td>\n",
       "      <td>207.0</td>\n",
       "      <td>4.5</td>\n",
       "      <td>$$$$</td>\n",
       "      <td>3</td>\n",
       "    </tr>\n",
       "    <tr>\n",
       "      <th>3</th>\n",
       "      <td>The Promenade</td>\n",
       "      <td>503.0</td>\n",
       "      <td>4.0</td>\n",
       "      <td>NaN</td>\n",
       "      <td>4</td>\n",
       "    </tr>\n",
       "    <tr>\n",
       "      <th>4</th>\n",
       "      <td>Le Cafe</td>\n",
       "      <td>471.0</td>\n",
       "      <td>4.0</td>\n",
       "      <td>NaN</td>\n",
       "      <td>5</td>\n",
       "    </tr>\n",
       "    <tr>\n",
       "      <th>...</th>\n",
       "      <td>...</td>\n",
       "      <td>...</td>\n",
       "      <td>...</td>\n",
       "      <td>...</td>\n",
       "      <td>...</td>\n",
       "    </tr>\n",
       "    <tr>\n",
       "      <th>535</th>\n",
       "      <td>Meat K Original</td>\n",
       "      <td>NaN</td>\n",
       "      <td>NaN</td>\n",
       "      <td>NaN</td>\n",
       "      <td>536</td>\n",
       "    </tr>\n",
       "    <tr>\n",
       "      <th>536</th>\n",
       "      <td>Si Chang</td>\n",
       "      <td>NaN</td>\n",
       "      <td>NaN</td>\n",
       "      <td>NaN</td>\n",
       "      <td>537</td>\n",
       "    </tr>\n",
       "    <tr>\n",
       "      <th>537</th>\n",
       "      <td>Shan Mu Tea House</td>\n",
       "      <td>NaN</td>\n",
       "      <td>NaN</td>\n",
       "      <td>NaN</td>\n",
       "      <td>538</td>\n",
       "    </tr>\n",
       "    <tr>\n",
       "      <th>538</th>\n",
       "      <td>Choya - Lakeshore Hotel Hsinchu</td>\n",
       "      <td>NaN</td>\n",
       "      <td>NaN</td>\n",
       "      <td>NaN</td>\n",
       "      <td>539</td>\n",
       "    </tr>\n",
       "    <tr>\n",
       "      <th>539</th>\n",
       "      <td>The Secret</td>\n",
       "      <td>NaN</td>\n",
       "      <td>NaN</td>\n",
       "      <td>NaN</td>\n",
       "      <td>540</td>\n",
       "    </tr>\n",
       "  </tbody>\n",
       "</table>\n",
       "<p>536 rows × 5 columns</p>\n",
       "</div>"
      ],
      "text/plain": [
       "                             restaurant_name  reviews  rating price_range  \\\n",
       "0    Chilliesine Indian Restaurant - Hsinchu    157.0     5.0         NaN   \n",
       "1                               Din Tai Fung    249.0     4.5         NaN   \n",
       "2          Wang Steak (Hsinchu Beida Branch)    207.0     4.5        $$$$   \n",
       "3                              The Promenade    503.0     4.0         NaN   \n",
       "4                                    Le Cafe    471.0     4.0         NaN   \n",
       "..                                       ...      ...     ...         ...   \n",
       "535                          Meat K Original      NaN     NaN         NaN   \n",
       "536                                 Si Chang      NaN     NaN         NaN   \n",
       "537                        Shan Mu Tea House      NaN     NaN         NaN   \n",
       "538          Choya - Lakeshore Hotel Hsinchu      NaN     NaN         NaN   \n",
       "539                               The Secret      NaN     NaN         NaN   \n",
       "\n",
       "     restaurant_id  \n",
       "0                1  \n",
       "1                2  \n",
       "2                3  \n",
       "3                4  \n",
       "4                5  \n",
       "..             ...  \n",
       "535            536  \n",
       "536            537  \n",
       "537            538  \n",
       "538            539  \n",
       "539            540  \n",
       "\n",
       "[536 rows x 5 columns]"
      ]
     },
     "execution_count": 74,
     "metadata": {},
     "output_type": "execute_result"
    }
   ],
   "source": [
    "restaurants_df.drop(columns = ['Unnamed: 0'])"
   ]
  },
  {
   "cell_type": "code",
   "execution_count": 79,
   "metadata": {},
   "outputs": [
    {
     "data": {
      "text/html": [
       "<div>\n",
       "<style scoped>\n",
       "    .dataframe tbody tr th:only-of-type {\n",
       "        vertical-align: middle;\n",
       "    }\n",
       "\n",
       "    .dataframe tbody tr th {\n",
       "        vertical-align: top;\n",
       "    }\n",
       "\n",
       "    .dataframe thead th {\n",
       "        text-align: right;\n",
       "    }\n",
       "</style>\n",
       "<table border=\"1\" class=\"dataframe\">\n",
       "  <thead>\n",
       "    <tr style=\"text-align: right;\">\n",
       "      <th></th>\n",
       "      <th>Unnamed: 0.1</th>\n",
       "      <th>Unnamed: 0</th>\n",
       "      <th>restaurant_name</th>\n",
       "      <th>reviews</th>\n",
       "      <th>rating</th>\n",
       "      <th>price_range</th>\n",
       "      <th>restaurant_id</th>\n",
       "    </tr>\n",
       "  </thead>\n",
       "  <tbody>\n",
       "    <tr>\n",
       "      <th>0</th>\n",
       "      <td>0</td>\n",
       "      <td>0</td>\n",
       "      <td>Chilliesine Indian Restaurant - Hsinchu</td>\n",
       "      <td>157.0</td>\n",
       "      <td>5.0</td>\n",
       "      <td>NaN</td>\n",
       "      <td>1</td>\n",
       "    </tr>\n",
       "    <tr>\n",
       "      <th>1</th>\n",
       "      <td>1</td>\n",
       "      <td>1</td>\n",
       "      <td>Din Tai Fung</td>\n",
       "      <td>249.0</td>\n",
       "      <td>4.5</td>\n",
       "      <td>NaN</td>\n",
       "      <td>2</td>\n",
       "    </tr>\n",
       "    <tr>\n",
       "      <th>2</th>\n",
       "      <td>2</td>\n",
       "      <td>2</td>\n",
       "      <td>Wang Steak (Hsinchu Beida Branch)</td>\n",
       "      <td>207.0</td>\n",
       "      <td>4.5</td>\n",
       "      <td>$$$$</td>\n",
       "      <td>3</td>\n",
       "    </tr>\n",
       "    <tr>\n",
       "      <th>3</th>\n",
       "      <td>3</td>\n",
       "      <td>3</td>\n",
       "      <td>The Promenade</td>\n",
       "      <td>503.0</td>\n",
       "      <td>4.0</td>\n",
       "      <td>NaN</td>\n",
       "      <td>4</td>\n",
       "    </tr>\n",
       "    <tr>\n",
       "      <th>4</th>\n",
       "      <td>4</td>\n",
       "      <td>4</td>\n",
       "      <td>Le Cafe</td>\n",
       "      <td>471.0</td>\n",
       "      <td>4.0</td>\n",
       "      <td>NaN</td>\n",
       "      <td>5</td>\n",
       "    </tr>\n",
       "    <tr>\n",
       "      <th>...</th>\n",
       "      <td>...</td>\n",
       "      <td>...</td>\n",
       "      <td>...</td>\n",
       "      <td>...</td>\n",
       "      <td>...</td>\n",
       "      <td>...</td>\n",
       "      <td>...</td>\n",
       "    </tr>\n",
       "    <tr>\n",
       "      <th>531</th>\n",
       "      <td>535</td>\n",
       "      <td>535</td>\n",
       "      <td>Meat K Original</td>\n",
       "      <td>NaN</td>\n",
       "      <td>NaN</td>\n",
       "      <td>NaN</td>\n",
       "      <td>536</td>\n",
       "    </tr>\n",
       "    <tr>\n",
       "      <th>532</th>\n",
       "      <td>536</td>\n",
       "      <td>536</td>\n",
       "      <td>Si Chang</td>\n",
       "      <td>NaN</td>\n",
       "      <td>NaN</td>\n",
       "      <td>NaN</td>\n",
       "      <td>537</td>\n",
       "    </tr>\n",
       "    <tr>\n",
       "      <th>533</th>\n",
       "      <td>537</td>\n",
       "      <td>537</td>\n",
       "      <td>Shan Mu Tea House</td>\n",
       "      <td>NaN</td>\n",
       "      <td>NaN</td>\n",
       "      <td>NaN</td>\n",
       "      <td>538</td>\n",
       "    </tr>\n",
       "    <tr>\n",
       "      <th>534</th>\n",
       "      <td>538</td>\n",
       "      <td>538</td>\n",
       "      <td>Choya - Lakeshore Hotel Hsinchu</td>\n",
       "      <td>NaN</td>\n",
       "      <td>NaN</td>\n",
       "      <td>NaN</td>\n",
       "      <td>539</td>\n",
       "    </tr>\n",
       "    <tr>\n",
       "      <th>535</th>\n",
       "      <td>539</td>\n",
       "      <td>539</td>\n",
       "      <td>The Secret</td>\n",
       "      <td>NaN</td>\n",
       "      <td>NaN</td>\n",
       "      <td>NaN</td>\n",
       "      <td>540</td>\n",
       "    </tr>\n",
       "  </tbody>\n",
       "</table>\n",
       "<p>536 rows × 7 columns</p>\n",
       "</div>"
      ],
      "text/plain": [
       "     Unnamed: 0.1  Unnamed: 0                          restaurant_name  \\\n",
       "0               0           0  Chilliesine Indian Restaurant - Hsinchu   \n",
       "1               1           1                             Din Tai Fung   \n",
       "2               2           2        Wang Steak (Hsinchu Beida Branch)   \n",
       "3               3           3                            The Promenade   \n",
       "4               4           4                                  Le Cafe   \n",
       "..            ...         ...                                      ...   \n",
       "531           535         535                          Meat K Original   \n",
       "532           536         536                                 Si Chang   \n",
       "533           537         537                        Shan Mu Tea House   \n",
       "534           538         538          Choya - Lakeshore Hotel Hsinchu   \n",
       "535           539         539                               The Secret   \n",
       "\n",
       "     reviews  rating price_range  restaurant_id  \n",
       "0      157.0     5.0         NaN              1  \n",
       "1      249.0     4.5         NaN              2  \n",
       "2      207.0     4.5        $$$$              3  \n",
       "3      503.0     4.0         NaN              4  \n",
       "4      471.0     4.0         NaN              5  \n",
       "..       ...     ...         ...            ...  \n",
       "531      NaN     NaN         NaN            536  \n",
       "532      NaN     NaN         NaN            537  \n",
       "533      NaN     NaN         NaN            538  \n",
       "534      NaN     NaN         NaN            539  \n",
       "535      NaN     NaN         NaN            540  \n",
       "\n",
       "[536 rows x 7 columns]"
      ]
     },
     "execution_count": 79,
     "metadata": {},
     "output_type": "execute_result"
    }
   ],
   "source": [
    "restaurants_df"
   ]
  },
  {
   "cell_type": "code",
   "execution_count": 81,
   "metadata": {},
   "outputs": [
    {
     "ename": "KeyError",
     "evalue": "'cuisines'",
     "output_type": "error",
     "traceback": [
      "\u001b[0;31m---------------------------------------------------------------------------\u001b[0m",
      "\u001b[0;31mKeyError\u001b[0m                                  Traceback (most recent call last)",
      "File \u001b[0;32m~/.pyenv/versions/3.9.16/lib/python3.9/site-packages/pandas/core/indexes/base.py:3790\u001b[0m, in \u001b[0;36mIndex.get_loc\u001b[0;34m(self, key)\u001b[0m\n\u001b[1;32m   3789\u001b[0m \u001b[38;5;28;01mtry\u001b[39;00m:\n\u001b[0;32m-> 3790\u001b[0m     \u001b[38;5;28;01mreturn\u001b[39;00m \u001b[38;5;28;43mself\u001b[39;49m\u001b[38;5;241;43m.\u001b[39;49m\u001b[43m_engine\u001b[49m\u001b[38;5;241;43m.\u001b[39;49m\u001b[43mget_loc\u001b[49m\u001b[43m(\u001b[49m\u001b[43mcasted_key\u001b[49m\u001b[43m)\u001b[49m\n\u001b[1;32m   3791\u001b[0m \u001b[38;5;28;01mexcept\u001b[39;00m \u001b[38;5;167;01mKeyError\u001b[39;00m \u001b[38;5;28;01mas\u001b[39;00m err:\n",
      "File \u001b[0;32mindex.pyx:152\u001b[0m, in \u001b[0;36mpandas._libs.index.IndexEngine.get_loc\u001b[0;34m()\u001b[0m\n",
      "File \u001b[0;32mindex.pyx:181\u001b[0m, in \u001b[0;36mpandas._libs.index.IndexEngine.get_loc\u001b[0;34m()\u001b[0m\n",
      "File \u001b[0;32mpandas/_libs/hashtable_class_helper.pxi:7080\u001b[0m, in \u001b[0;36mpandas._libs.hashtable.PyObjectHashTable.get_item\u001b[0;34m()\u001b[0m\n",
      "File \u001b[0;32mpandas/_libs/hashtable_class_helper.pxi:7088\u001b[0m, in \u001b[0;36mpandas._libs.hashtable.PyObjectHashTable.get_item\u001b[0;34m()\u001b[0m\n",
      "\u001b[0;31mKeyError\u001b[0m: 'cuisines'",
      "\nThe above exception was the direct cause of the following exception:\n",
      "\u001b[0;31mKeyError\u001b[0m                                  Traceback (most recent call last)",
      "Cell \u001b[0;32mIn[81], line 3\u001b[0m\n\u001b[1;32m      1\u001b[0m \u001b[38;5;28;01mfor\u001b[39;00m _, row \u001b[38;5;129;01min\u001b[39;00m restaurants_df\u001b[38;5;241m.\u001b[39miterrows():\n\u001b[1;32m      2\u001b[0m     restaurant_id \u001b[38;5;241m=\u001b[39m row[\u001b[38;5;124m'\u001b[39m\u001b[38;5;124mrestaurant_id\u001b[39m\u001b[38;5;124m'\u001b[39m]\n\u001b[0;32m----> 3\u001b[0m     cuisines \u001b[38;5;241m=\u001b[39m row[\u001b[38;5;124m'\u001b[39m\u001b[38;5;124mcuisines\u001b[39m\u001b[38;5;124m'\u001b[39m]\u001b[38;5;241m.\u001b[39msplit(\u001b[38;5;124m'\u001b[39m\u001b[38;5;124m, \u001b[39m\u001b[38;5;124m'\u001b[39m) \u001b[38;5;28;01mif\u001b[39;00m \u001b[43mrow\u001b[49m\u001b[43m[\u001b[49m\u001b[38;5;124;43m'\u001b[39;49m\u001b[38;5;124;43mcuisines\u001b[39;49m\u001b[38;5;124;43m'\u001b[39;49m\u001b[43m]\u001b[49m \u001b[38;5;28;01melse\u001b[39;00m []\n\u001b[1;32m      5\u001b[0m     \u001b[38;5;66;03m# Get cuisine_ids from cuisines_df\u001b[39;00m\n\u001b[1;32m      6\u001b[0m     cuisine_ids \u001b[38;5;241m=\u001b[39m cuisines_df[cuisines_df[\u001b[38;5;124m'\u001b[39m\u001b[38;5;124mcuisine_name\u001b[39m\u001b[38;5;124m'\u001b[39m]\u001b[38;5;241m.\u001b[39misin(cuisines)][\u001b[38;5;124m'\u001b[39m\u001b[38;5;124mcuisine_id\u001b[39m\u001b[38;5;124m'\u001b[39m]\u001b[38;5;241m.\u001b[39mtolist()\n",
      "File \u001b[0;32m~/.pyenv/versions/3.9.16/lib/python3.9/site-packages/pandas/core/series.py:1040\u001b[0m, in \u001b[0;36mSeries.__getitem__\u001b[0;34m(self, key)\u001b[0m\n\u001b[1;32m   1037\u001b[0m     \u001b[38;5;28;01mreturn\u001b[39;00m \u001b[38;5;28mself\u001b[39m\u001b[38;5;241m.\u001b[39m_values[key]\n\u001b[1;32m   1039\u001b[0m \u001b[38;5;28;01melif\u001b[39;00m key_is_scalar:\n\u001b[0;32m-> 1040\u001b[0m     \u001b[38;5;28;01mreturn\u001b[39;00m \u001b[38;5;28;43mself\u001b[39;49m\u001b[38;5;241;43m.\u001b[39;49m\u001b[43m_get_value\u001b[49m\u001b[43m(\u001b[49m\u001b[43mkey\u001b[49m\u001b[43m)\u001b[49m\n\u001b[1;32m   1042\u001b[0m \u001b[38;5;66;03m# Convert generator to list before going through hashable part\u001b[39;00m\n\u001b[1;32m   1043\u001b[0m \u001b[38;5;66;03m# (We will iterate through the generator there to check for slices)\u001b[39;00m\n\u001b[1;32m   1044\u001b[0m \u001b[38;5;28;01mif\u001b[39;00m is_iterator(key):\n",
      "File \u001b[0;32m~/.pyenv/versions/3.9.16/lib/python3.9/site-packages/pandas/core/series.py:1156\u001b[0m, in \u001b[0;36mSeries._get_value\u001b[0;34m(self, label, takeable)\u001b[0m\n\u001b[1;32m   1153\u001b[0m     \u001b[38;5;28;01mreturn\u001b[39;00m \u001b[38;5;28mself\u001b[39m\u001b[38;5;241m.\u001b[39m_values[label]\n\u001b[1;32m   1155\u001b[0m \u001b[38;5;66;03m# Similar to Index.get_value, but we do not fall back to positional\u001b[39;00m\n\u001b[0;32m-> 1156\u001b[0m loc \u001b[38;5;241m=\u001b[39m \u001b[38;5;28;43mself\u001b[39;49m\u001b[38;5;241;43m.\u001b[39;49m\u001b[43mindex\u001b[49m\u001b[38;5;241;43m.\u001b[39;49m\u001b[43mget_loc\u001b[49m\u001b[43m(\u001b[49m\u001b[43mlabel\u001b[49m\u001b[43m)\u001b[49m\n\u001b[1;32m   1158\u001b[0m \u001b[38;5;28;01mif\u001b[39;00m is_integer(loc):\n\u001b[1;32m   1159\u001b[0m     \u001b[38;5;28;01mreturn\u001b[39;00m \u001b[38;5;28mself\u001b[39m\u001b[38;5;241m.\u001b[39m_values[loc]\n",
      "File \u001b[0;32m~/.pyenv/versions/3.9.16/lib/python3.9/site-packages/pandas/core/indexes/base.py:3797\u001b[0m, in \u001b[0;36mIndex.get_loc\u001b[0;34m(self, key)\u001b[0m\n\u001b[1;32m   3792\u001b[0m     \u001b[38;5;28;01mif\u001b[39;00m \u001b[38;5;28misinstance\u001b[39m(casted_key, \u001b[38;5;28mslice\u001b[39m) \u001b[38;5;129;01mor\u001b[39;00m (\n\u001b[1;32m   3793\u001b[0m         \u001b[38;5;28misinstance\u001b[39m(casted_key, abc\u001b[38;5;241m.\u001b[39mIterable)\n\u001b[1;32m   3794\u001b[0m         \u001b[38;5;129;01mand\u001b[39;00m \u001b[38;5;28many\u001b[39m(\u001b[38;5;28misinstance\u001b[39m(x, \u001b[38;5;28mslice\u001b[39m) \u001b[38;5;28;01mfor\u001b[39;00m x \u001b[38;5;129;01min\u001b[39;00m casted_key)\n\u001b[1;32m   3795\u001b[0m     ):\n\u001b[1;32m   3796\u001b[0m         \u001b[38;5;28;01mraise\u001b[39;00m InvalidIndexError(key)\n\u001b[0;32m-> 3797\u001b[0m     \u001b[38;5;28;01mraise\u001b[39;00m \u001b[38;5;167;01mKeyError\u001b[39;00m(key) \u001b[38;5;28;01mfrom\u001b[39;00m \u001b[38;5;21;01merr\u001b[39;00m\n\u001b[1;32m   3798\u001b[0m \u001b[38;5;28;01mexcept\u001b[39;00m \u001b[38;5;167;01mTypeError\u001b[39;00m:\n\u001b[1;32m   3799\u001b[0m     \u001b[38;5;66;03m# If we have a listlike key, _check_indexing_error will raise\u001b[39;00m\n\u001b[1;32m   3800\u001b[0m     \u001b[38;5;66;03m#  InvalidIndexError. Otherwise we fall through and re-raise\u001b[39;00m\n\u001b[1;32m   3801\u001b[0m     \u001b[38;5;66;03m#  the TypeError.\u001b[39;00m\n\u001b[1;32m   3802\u001b[0m     \u001b[38;5;28mself\u001b[39m\u001b[38;5;241m.\u001b[39m_check_indexing_error(key)\n",
      "\u001b[0;31mKeyError\u001b[0m: 'cuisines'"
     ]
    }
   ],
   "source": [
    "for _, row in restaurants_df.iterrows():\n",
    "    restaurant_id = row['restaurant_id']\n",
    "    cuisines = row['cuisines'].split(', ') if row['cuisines'] else []\n",
    "\n",
    "    # Get cuisine_ids from cuisines_df\n",
    "    cuisine_ids = cuisines_df[cuisines_df['cuisine_name'].isin(cuisines)]['cuisine_id'].tolist()\n",
    "\n",
    "    # Create rows for restaurant_cuisines_df\n",
    "    rows = [{'restaurant_id': restaurant_id, 'cuisine_id': cuisine_id} for cuisine_id in cuisine_ids]\n",
    "\n",
    "    # Append rows to restaurant_cuisines_df\n",
    "    restaurant_cuisines_df = restaurant_cuisines_df.append(rows, ignore_index=True)\n",
    "\n",
    "# Save restaurant_cuisines_df to CSV\n",
    "restaurant_cuisines_df.to_csv('restaurant_cuisines.csv', index=False)"
   ]
  },
  {
   "cell_type": "code",
   "execution_count": null,
   "metadata": {},
   "outputs": [],
   "source": [
    "import pandas as pd\n",
    "import random\n",
    "\n",
    "# Read the existing CSV files\n",
    "restaurants_df = pd.read_csv('restaurants.csv')\n",
    "cuisines_df = pd.read_csv('cuisines.csv')\n",
    "restaurant_cuisines_df = pd.read_csv('restaurant_cuisines.csv')\n",
    "dishes_df = pd.read_csv('dishes.csv')\n",
    "\n",
    "# Create an empty DataFrame to store the restaurantdish data\n",
    "restaurantdish_df = pd.DataFrame(columns=['restaurant_id', 'dish_id'])\n",
    "\n",
    "# Loop through each restaurant\n",
    "for _, restaurant_row in restaurants_df.iterrows():\n",
    "    # Find the cuisines associated with the restaurant\n",
    "    cuisines_list = restaurant_cuisines_df.loc[restaurant_cuisines_df['restaurant_id'] == restaurant_row['restaurant_id'], 'cuisine_id'].tolist()\n",
    "    \n",
    "    # Filter dishes based on cuisines\n",
    "    available_dishes = dishes_df[dishes_df['cuisine_id'].isin(cuisines_list)]\n",
    "    \n",
    "    # Check if available_dishes has at least 3 dishes\n",
    "    if len(available_dishes) >= 3:\n",
    "        # Ensure there are no duplicates\n",
    "        selected_dishes = available_dishes.drop_duplicates(subset=['dish_id']).sample(n=3, replace=False)\n",
    "        \n",
    "        # Create rows for restaurantdish_df\n",
    "        restaurantdish_rows = pd.DataFrame({'restaurant_id': restaurant_row['restaurant_id'], 'dish_id': selected_dishes['dish_id'].tolist()})\n",
    "        \n",
    "        # Concatenate the rows to restaurantdish_df\n",
    "        restaurantdish_df = pd.concat([restaurantdish_df, restaurantdish_rows], ignore_index=True)\n",
    "\n",
    "# Save the resulting restaurantdish_df to CSV\n",
    "restaurantdish_df.to_csv('restaurantdish.csv', index=False)\n"
   ]
  },
  {
   "cell_type": "code",
   "execution_count": null,
   "metadata": {},
   "outputs": [],
   "source": []
  }
 ],
 "metadata": {
  "kernelspec": {
   "display_name": "Python 3",
   "language": "python",
   "name": "python3"
  },
  "language_info": {
   "codemirror_mode": {
    "name": "ipython",
    "version": 3
   },
   "file_extension": ".py",
   "mimetype": "text/x-python",
   "name": "python",
   "nbconvert_exporter": "python",
   "pygments_lexer": "ipython3",
   "version": "3.9.16"
  }
 },
 "nbformat": 4,
 "nbformat_minor": 2
}
